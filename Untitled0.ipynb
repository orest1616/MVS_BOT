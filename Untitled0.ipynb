{
  "nbformat": 4,
  "nbformat_minor": 0,
  "metadata": {
    "colab": {
      "name": "Untitled0.ipynb",
      "provenance": [],
      "toc_visible": true,
      "mount_file_id": "1TaOFwsj7SXeKC8OHQ7LYKKFaISi49sb3",
      "authorship_tag": "ABX9TyOOLqa0dKPHQaOghC1W4vS8",
      "include_colab_link": true
    },
    "kernelspec": {
      "display_name": "Python 3",
      "name": "python3"
    },
    "accelerator": "GPU"
  },
  "cells": [
    {
      "cell_type": "markdown",
      "metadata": {
        "id": "view-in-github",
        "colab_type": "text"
      },
      "source": [
        "<a href=\"https://colab.research.google.com/github/orest1616/MVS_BOT/blob/main/Untitled0.ipynb\" target=\"_parent\"><img src=\"https://colab.research.google.com/assets/colab-badge.svg\" alt=\"Open In Colab\"/></a>"
      ]
    },
    {
      "cell_type": "markdown",
      "metadata": {
        "id": "iNWzj2xBV64B"
      },
      "source": [
        "**Налаштуйте середовище розробки в google colab, Встановіть  GPU** \n"
      ]
    },
    {
      "cell_type": "markdown",
      "metadata": {
        "id": "m3roAM3CWx66"
      },
      "source": [
        "**Перейдіть в папку де у вас буде збережений ваш прект.**\n",
        "#в цій папці буде збережений мій проект"
      ]
    },
    {
      "cell_type": "code",
      "metadata": {
        "colab": {
          "base_uri": "https://localhost:8080/"
        },
        "id": "jweDzr-ErTM4",
        "outputId": "5232aac4-2968-4918-8e61-1d0c9cb8dcca"
      },
      "source": [
        "cd /content/drive/MyDrive/GIT/MVS_BOT "
      ],
      "execution_count": null,
      "outputs": [
        {
          "output_type": "stream",
          "text": [
            "/content/drive/MyDrive/GIT/MVS_BOT\n"
          ],
          "name": "stdout"
        }
      ]
    },
    {
      "cell_type": "markdown",
      "metadata": {
        "id": "KW1ZsFOoWuBq"
      },
      "source": [
        "**Наступний етапом ми встановимо всі потрібні на налаштування**"
      ]
    },
    {
      "cell_type": "code",
      "metadata": {
        "id": "nst_jcdnWOS6",
        "colab": {
          "base_uri": "https://localhost:8080/",
          "height": 530
        },
        "outputId": "7ab9871c-ad58-4a9f-d0a3-570e663bff78"
      },
      "source": [
        "!pip install dlib\n",
        "!pip install face_recognition\n",
        "!pip install imutils\n",
        "!pip install pickle\n",
        "!pip install argparse"
      ],
      "execution_count": null,
      "outputs": [
        {
          "output_type": "stream",
          "text": [
            "Requirement already satisfied: dlib in /usr/local/lib/python3.6/dist-packages (19.18.0)\n",
            "Collecting face_recognition\n",
            "  Downloading https://files.pythonhosted.org/packages/1e/95/f6c9330f54ab07bfa032bf3715c12455a381083125d8880c43cbe76bb3d0/face_recognition-1.3.0-py2.py3-none-any.whl\n",
            "Requirement already satisfied: numpy in /usr/local/lib/python3.6/dist-packages (from face_recognition) (1.18.5)\n",
            "Collecting face-recognition-models>=0.3.0\n",
            "\u001b[?25l  Downloading https://files.pythonhosted.org/packages/cf/3b/4fd8c534f6c0d1b80ce0973d01331525538045084c73c153ee6df20224cf/face_recognition_models-0.3.0.tar.gz (100.1MB)\n",
            "\u001b[K     |████████████████████████████████| 100.2MB 42kB/s \n",
            "\u001b[?25hRequirement already satisfied: Click>=6.0 in /usr/local/lib/python3.6/dist-packages (from face_recognition) (7.1.2)\n",
            "Requirement already satisfied: Pillow in /usr/local/lib/python3.6/dist-packages (from face_recognition) (7.0.0)\n",
            "Requirement already satisfied: dlib>=19.7 in /usr/local/lib/python3.6/dist-packages (from face_recognition) (19.18.0)\n",
            "Building wheels for collected packages: face-recognition-models\n",
            "  Building wheel for face-recognition-models (setup.py) ... \u001b[?25l\u001b[?25hdone\n",
            "  Created wheel for face-recognition-models: filename=face_recognition_models-0.3.0-py2.py3-none-any.whl size=100566173 sha256=f210df91ae986706e02caf84d3f194a0a0ec8eb716ab4a3afe1a1fa0d38929d7\n",
            "  Stored in directory: /root/.cache/pip/wheels/d2/99/18/59c6c8f01e39810415c0e63f5bede7d83dfb0ffc039865465f\n",
            "Successfully built face-recognition-models\n",
            "Installing collected packages: face-recognition-models, face-recognition\n",
            "Successfully installed face-recognition-1.3.0 face-recognition-models-0.3.0\n",
            "Requirement already satisfied: imutils in /usr/local/lib/python3.6/dist-packages (0.5.3)\n",
            "\u001b[31mERROR: Could not find a version that satisfies the requirement pickle (from versions: none)\u001b[0m\n",
            "\u001b[31mERROR: No matching distribution found for pickle\u001b[0m\n",
            "Collecting argparse\n",
            "  Downloading https://files.pythonhosted.org/packages/f2/94/3af39d34be01a24a6e65433d19e107099374224905f1e0cc6bbe1fd22a2f/argparse-1.4.0-py2.py3-none-any.whl\n",
            "Installing collected packages: argparse\n",
            "Successfully installed argparse-1.4.0\n"
          ],
          "name": "stdout"
        },
        {
          "output_type": "display_data",
          "data": {
            "application/vnd.colab-display-data+json": {
              "pip_warning": {
                "packages": [
                  "argparse"
                ]
              }
            }
          },
          "metadata": {
            "tags": []
          }
        }
      ]
    },
    {
      "cell_type": "code",
      "metadata": {
        "colab": {
          "base_uri": "https://localhost:8080/"
        },
        "id": "_757UVjsyeac",
        "outputId": "1d52f67c-f41e-4a9d-f6b1-6a569c2953e8"
      },
      "source": [
        "!pip install face_recognition"
      ],
      "execution_count": null,
      "outputs": [
        {
          "output_type": "stream",
          "text": [
            "Requirement already satisfied: face_recognition in /usr/local/lib/python3.6/dist-packages (1.3.0)\n",
            "Requirement already satisfied: Pillow in /usr/local/lib/python3.6/dist-packages (from face_recognition) (7.0.0)\n",
            "Requirement already satisfied: Click>=6.0 in /usr/local/lib/python3.6/dist-packages (from face_recognition) (7.1.2)\n",
            "Requirement already satisfied: dlib>=19.7 in /usr/local/lib/python3.6/dist-packages (from face_recognition) (19.18.0)\n",
            "Requirement already satisfied: numpy in /usr/local/lib/python3.6/dist-packages (from face_recognition) (1.18.5)\n",
            "Requirement already satisfied: face-recognition-models>=0.3.0 in /usr/local/lib/python3.6/dist-packages (from face_recognition) (0.3.0)\n"
          ],
          "name": "stdout"
        }
      ]
    },
    {
      "cell_type": "code",
      "metadata": {
        "id": "eynljDJCs8yt",
        "colab": {
          "base_uri": "https://localhost:8080/"
        },
        "outputId": "99da3d90-f33f-4ae9-97ba-a0e47f072eb5"
      },
      "source": [
        "!pip install imutils"
      ],
      "execution_count": null,
      "outputs": [
        {
          "output_type": "stream",
          "text": [
            "Requirement already satisfied: imutils in /usr/local/lib/python3.6/dist-packages (0.5.3)\n"
          ],
          "name": "stdout"
        }
      ]
    },
    {
      "cell_type": "markdown",
      "metadata": {
        "id": "R2VyyUxcYqx9"
      },
      "source": [
        "**Наступним етапом нам потрібно зробити набір даних**"
      ]
    },
    {
      "cell_type": "code",
      "metadata": {
        "id": "vO_DZNh7YqC4"
      },
      "source": [
        "!mkdir data # ми створили папку в якій буде збережені всі фото на який мережа буду детектити хто находиться на фото"
      ],
      "execution_count": null,
      "outputs": []
    },
    {
      "cell_type": "code",
      "metadata": {
        "id": "91bfBapFWZOa"
      },
      "source": [
        "cd data"
      ],
      "execution_count": null,
      "outputs": []
    },
    {
      "cell_type": "code",
      "metadata": {
        "id": "2TA8nRcNcYvU"
      },
      "source": [
        "!mkdir Angelina_Jolie  #тут ми створили папку з самої людиною яку ми хочемо детектити в даному випадку це Angelina_Jolie"
      ],
      "execution_count": null,
      "outputs": []
    },
    {
      "cell_type": "code",
      "metadata": {
        "id": "H1Zvrq-3cbb-"
      },
      "source": [
        "cd Angelina_Jolie"
      ],
      "execution_count": null,
      "outputs": []
    },
    {
      "cell_type": "markdown",
      "metadata": {
        "id": "pmpNjelvcpGC"
      },
      "source": [
        "На даному етапі нам потрібно завантажити в папку з людиною прнамні 10 її фотоографій там де зобреженно її і тільки її лице "
      ]
    },
    {
      "cell_type": "code",
      "metadata": {
        "id": "sAT1JffteBNf"
      },
      "source": [
        "!wget  https://cdn.britannica.com/61/103761-050-0174C1D5/Angelina-Jolie-Hollywood.jpg  #завантажте забраженн"
      ],
      "execution_count": null,
      "outputs": []
    },
    {
      "cell_type": "code",
      "metadata": {
        "id": "N13YD6RzcnuL"
      },
      "source": [
        "cd /content/drive/MyDrive/GIT/MVS_BOT  # переходимо назад в нашу деректорію"
      ],
      "execution_count": null,
      "outputs": []
    },
    {
      "cell_type": "code",
      "metadata": {
        "id": "3YqdeV0GemYJ"
      },
      "source": [
        "!python main.py"
      ],
      "execution_count": null,
      "outputs": []
    },
    {
      "cell_type": "code",
      "metadata": {
        "id": "tLLY92nuckpW",
        "colab": {
          "base_uri": "https://localhost:8080/"
        },
        "outputId": "1f674aaf-88de-49e6-f3a4-a9db27bfa33c"
      },
      "source": [
        "!python encode_faces.py --data data --encodings encodings.pickle"
      ],
      "execution_count": null,
      "outputs": [
        {
          "output_type": "stream",
          "text": [
            "[INFO] quantifying faces...\n",
            "[INFO] processing image 1/7\n",
            "[INFO] processing image 2/7\n",
            "[INFO] processing image 3/7\n",
            "[INFO] processing image 4/7\n",
            "[INFO] processing image 5/7\n",
            "[INFO] processing image 6/7\n",
            "[INFO] processing image 7/7\n",
            "[INFO] serializing encodings...\n"
          ],
          "name": "stdout"
        }
      ]
    },
    {
      "cell_type": "code",
      "metadata": {
        "colab": {
          "base_uri": "https://localhost:8080/"
        },
        "id": "uvKoVm661Dwh",
        "outputId": "e63a1493-851e-4f8f-b81b-d7541006ad86"
      },
      "source": [
        "ls"
      ],
      "execution_count": null,
      "outputs": [
        {
          "output_type": "stream",
          "text": [
            "\u001b[0m\u001b[01;34mdata\u001b[0m/            encodings.pickle  img.png  untitled\n",
            "encode_faces.py  \u001b[01;34mexamples\u001b[0m/         main.py  Untitled0.ipynb\n"
          ],
          "name": "stdout"
        }
      ]
    },
    {
      "cell_type": "code",
      "metadata": {
        "id": "FvzR3PfAntwE",
        "colab": {
          "base_uri": "https://localhost:8080/"
        },
        "outputId": "3f5ec1d3-1c76-426d-b3b2-0ca61f9f3d5f"
      },
      "source": [
        "%matplotlib inline\n",
        "!python main.py --encodings encodings.pickle --image examples/1.jpeg #тут сама фотографія яку ми хочемо розпізнати \n"
      ],
      "execution_count": null,
      "outputs": [
        {
          "output_type": "stream",
          "text": [
            "[INFO] loading encodings...\n",
            "[INFO] recognizing faces...\n",
            "<Figure size 640x480 with 1 Axes>\n"
          ],
          "name": "stdout"
        }
      ]
    }
  ]
}